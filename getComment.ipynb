{
 "cells": [
  {
   "cell_type": "code",
   "execution_count": null,
   "id": "487f910e",
   "metadata": {},
   "outputs": [],
   "source": [
    "import csv\n",
    "import hashlib\n",
    "import urllib\n",
    "import time\n",
    "import requests\n",
    "import re\n",
    "import pandas as pd"
   ]
  },
  {
   "cell_type": "code",
   "execution_count": null,
   "id": "41bf7192",
   "metadata": {},
   "outputs": [],
   "source": [
    "def getHeaders():\n",
    "    with open('bili_cookie.txt', 'r') as f:\n",
    "        return {\"cookie\": f.read(), \"user-agent\": \"Mozilla/5.0 (Windows NT 10.0; Win64; x64) AppleWebKit/537.36 (KHTML, like Gecko) Chrome/135.0.0.0 Safari/537.36 Edg/135.0.0.0\"}"
   ]
  },
  {
   "cell_type": "code",
   "execution_count": null,
   "id": "6c4d782b",
   "metadata": {},
   "outputs": [],
   "source": [
    "def getInfo(BV, link):\n",
    "    resp = requests.get(link, headers=getHeaders())\n",
    "    oid = re.findall(f'\"aid\":(.*?),\"bvid\":\"{BV}\"', resp.text)[0]\n",
    "    title = re.findall(r'<title data-vue-meta=\"true\">(.*?)</title>', resp.text)[0]\n",
    "    return oid, title"
   ]
  },
  {
   "cell_type": "code",
   "execution_count": null,
   "id": "e0fff355",
   "metadata": {},
   "outputs": [],
   "source": [
    "def start(bv, oid, pageID, count, csv_writer, cnt, total_count):\n",
    "    mode, plat, type = 2, 1, 1\n",
    "    wts = time.time()\n",
    "    if pageID != '':\n",
    "        pagination_str = '{\"offset\":\"{\\\\\\\"type\\\\\\\":3,\\\\\\\"direction\\\\\\\":1,\\\\\\\"Data\\\\\\\":{\\\\\\\"cursor\\\\\\\":%d}}\"}' % pageID\n",
    "    else:\n",
    "        pagination_str = '{\"offset\":\"\"}'\n",
    "    md5_str = 'ea1db124af3c7062474693fa704f4ff8'\n",
    "    code = f\"mode={mode}&oid={oid}&pagination_str={urllib.parse.quote(pagination_str)}&plat={plat}&seek_rpid=&type={type}&web_location=1315875&wts={wts}{md5_str}\"\n",
    "    w_rid = hashlib.md5(code.encode('utf-8')).hexdigest()\n",
    "\n",
    "    url = f\"https://api.bilibili.com/x/v2/reply/wbi/main?oid={oid}&type={type}&mode={mode}&pagination_str={urllib.parse.quote(pagination_str, safe=':')}&plat=1&seek_rpid=&web_location=1315875&w_rid={w_rid}&wts={wts}\"\n",
    "    comment = requests.get(url, headers=getHeaders()).json()\n",
    "\n",
    "    current_count = 0\n",
    "    for reply in comment['data']['replies']:\n",
    "        count += 1\n",
    "        name, sex = reply[\"member\"][\"uname\"], reply[\"member\"][\"sex\"]\n",
    "        context, reply_time = reply[\"content\"][\"message\"], pd.to_datetime(reply[\"ctime\"], unit='s')\n",
    "\n",
    "        try:\n",
    "            rereply = int(re.findall(r'\\d+', reply[\"reply_control\"][\"sub_reply_entry_text\"])[0])\n",
    "        except KeyError:\n",
    "            rereply = 0\n",
    "\n",
    "        like, sign = reply['like'], reply.get('member', {}).get('sign', '')\n",
    "        csv_writer.writerow([count, name, sex, context, reply_time, rereply, like, sign])\n",
    "\n",
    "        current_count += 1\n",
    "        total_count += 1\n",
    "\n",
    "    print(f\"累计爬取了 {total_count} 条评论。\")\n",
    "\n",
    "    if comment['data']['cursor']['next']:\n",
    "        if cnt > 0:\n",
    "            time.sleep(0.5)\n",
    "            start(bv, oid, comment['data']['cursor']['next'], count, csv_writer, cnt - 1, total_count)\n",
    "    else:\n",
    "        print(f\"评论爬取完成！总共爬取{total_count}条。\")"
   ]
  },
  {
   "cell_type": "code",
   "execution_count": null,
   "id": "855cf8be",
   "metadata": {},
   "outputs": [],
   "source": [
    "if __name__ == \"__main__\":\n",
    "    BV = input()\n",
    "    link = f'https://www.bilibili.com/video/{BV}'\n",
    "    oid, title = getInfo(BV, link)"
   ]
  }
 ],
 "metadata": {
  "language_info": {
   "name": "python"
  }
 },
 "nbformat": 4,
 "nbformat_minor": 5
}
